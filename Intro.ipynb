{
 "cells": [
  {
   "cell_type": "code",
   "execution_count": 1,
   "id": "b799daeb",
   "metadata": {},
   "outputs": [],
   "source": [
    "import os\n",
    "hf_key = open('hf_key.txt','r').read().rstrip()\n",
    "os.environ[\"HUGGINGFACEHUB_API_TOKEN\"] = hf_key"
   ]
  },
  {
   "cell_type": "code",
   "execution_count": 2,
   "id": "db3a7af8",
   "metadata": {},
   "outputs": [],
   "source": [
    "from langchain import HuggingFaceHub, LLMChain, PromptTemplate"
   ]
  },
  {
   "cell_type": "code",
   "execution_count": 3,
   "id": "164a60a1",
   "metadata": {},
   "outputs": [],
   "source": [
    "template = \"\"\"Question : {question}\n",
    "\n",
    "Answer: \"\"\"\n",
    "\n",
    "prompt = PromptTemplate(template=template, input_variables=['question'])"
   ]
  },
  {
   "cell_type": "code",
   "execution_count": 4,
   "id": "56b61678",
   "metadata": {},
   "outputs": [],
   "source": [
    "llm_chain = LLMChain(\n",
    "    prompt=prompt,\n",
    "    llm=HuggingFaceHub(\n",
    "        repo_id='google/flan-t5-xl',\n",
    "    model_kwargs={'temperature':0, 'max_length':64}))"
   ]
  },
  {
   "cell_type": "code",
   "execution_count": 5,
   "id": "9f1931d9",
   "metadata": {},
   "outputs": [
    {
     "data": {
      "text/plain": [
       "'brazil'"
      ]
     },
     "execution_count": 5,
     "metadata": {},
     "output_type": "execute_result"
    }
   ],
   "source": [
    "question = \"Who won the 2014 FIFA World Cup?\"\n",
    "llm_chain.run(question)"
   ]
  },
  {
   "cell_type": "code",
   "execution_count": null,
   "id": "26e392e8",
   "metadata": {},
   "outputs": [],
   "source": []
  }
 ],
 "metadata": {
  "kernelspec": {
   "display_name": "Python 3 (ipykernel)",
   "language": "python",
   "name": "python3"
  },
  "language_info": {
   "codemirror_mode": {
    "name": "ipython",
    "version": 3
   },
   "file_extension": ".py",
   "mimetype": "text/x-python",
   "name": "python",
   "nbconvert_exporter": "python",
   "pygments_lexer": "ipython3",
   "version": "3.8.13"
  }
 },
 "nbformat": 4,
 "nbformat_minor": 5
}
